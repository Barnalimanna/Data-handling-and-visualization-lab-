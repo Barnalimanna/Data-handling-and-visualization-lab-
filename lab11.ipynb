{
 "cells": [
  {
   "cell_type": "code",
   "execution_count": 2,
   "id": "0bcc89d3",
   "metadata": {},
   "outputs": [
    {
     "name": "stdout",
     "output_type": "stream",
     "text": [
      "   userID   latitude   longitude smoker     drink_level dress_preference  \\\n",
      "0   U1001  22.139997 -100.978803  False      abstemious         informal   \n",
      "1   U1002  22.150087 -100.983325  False      abstemious         informal   \n",
      "2   U1003  22.119847 -100.946527  False  social drinker           formal   \n",
      "3   U1004  18.867000  -99.183000  False      abstemious         informal   \n",
      "4   U1005  22.183477 -100.959891  False      abstemious    no preference   \n",
      "5   U1006  22.150000 -100.983000   True  social drinker    no preference   \n",
      "6   U1007  22.118464 -100.938256  False  casual drinker         informal   \n",
      "7   U1008  22.122989 -100.923811  False  social drinker           formal   \n",
      "8   U1009  22.159427 -100.990448  False      abstemious           formal   \n",
      "9   U1010  22.190889 -100.998669  False  social drinker    no preference   \n",
      "10  U1011  23.724972  -99.152856  False      abstemious    no preference   \n",
      "11  U1012  18.813348  -99.243697  False  casual drinker           formal   \n",
      "12  U1013  22.174624 -100.993873  False      abstemious    no preference   \n",
      "13  U1014  23.751607  -99.170108  False      abstemious              NaN   \n",
      "14  U1015  22.126760 -100.905209   True  social drinker         informal   \n",
      "15  U1016  22.156247 -100.977402  False  casual drinker         informal   \n",
      "16  U1017  18.952615  -99.201616  False  casual drinker           formal   \n",
      "17  U1018  22.190949 -100.917902   True  casual drinker           formal   \n",
      "18  U1019  22.153385 -100.975294  False  casual drinker    no preference   \n",
      "19  U1020  18.878189  -99.222969  False      abstemious    no preference   \n",
      "\n",
      "    ambience  transport marital_status        hijos  birth_year      interest  \\\n",
      "0     family    on foot         single  independent        1989       variety   \n",
      "1     family     public         single  independent        1990    technology   \n",
      "2     family     public         single  independent        1989          none   \n",
      "3     family     public         single  independent        1940       variety   \n",
      "4     family     public         single  independent        1992          none   \n",
      "5    friends  car owner         single  independent        1989       variety   \n",
      "6   solitary     public         single  independent        1989       variety   \n",
      "7   solitary     public         single  independent        1989    technology   \n",
      "8     family    on foot         single         kids        1991       variety   \n",
      "9    friends  car owner        married         kids        1987    technology   \n",
      "10    family     public         single  independent        1989       variety   \n",
      "11    family     public         single  independent        1988    technology   \n",
      "12   friends     public          widow  independent        1982         retro   \n",
      "13   friends     public         single  independent        1990          none   \n",
      "14    family     public         single  independent        1989    technology   \n",
      "15   friends    on foot         single  independent        1991  eco-friendly   \n",
      "16    family     public         single          NaN        1991         retro   \n",
      "17   friends     public         single  independent        1989    technology   \n",
      "18    family     public         single  independent        1989       variety   \n",
      "19   friends     public         single  independent        1982    technology   \n",
      "\n",
      "            personality   religion      activity   color  weight  budget  \\\n",
      "0     thrifty-protector       none       student   black      69  medium   \n",
      "1   hunter-ostentatious   Catholic       student     red      40     low   \n",
      "2           hard-worker   Catholic       student    blue      60     low   \n",
      "3           hard-worker       none  professional   green      44  medium   \n",
      "4     thrifty-protector   Catholic       student   black      65  medium   \n",
      "5           hard-worker       none       student    blue      75  medium   \n",
      "6     thrifty-protector   Catholic       student  purple      60     low   \n",
      "7           hard-worker   Catholic       student   green      68     low   \n",
      "8     thrifty-protector   Catholic       student   green      75  medium   \n",
      "9           hard-worker       none       student   green      40  medium   \n",
      "10          hard-worker   Catholic       student  purple      68  medium   \n",
      "11          hard-worker   Catholic       student     red      98  medium   \n",
      "12    thrifty-protector       none  professional    blue      80  medium   \n",
      "13          hard-worker   Catholic       student    blue      53  medium   \n",
      "14    thrifty-protector   Catholic       student   black      87  medium   \n",
      "15    thrifty-protector   Catholic       student   green      70  medium   \n",
      "16  hunter-ostentatious       none  professional  orange      79  medium   \n",
      "17    thrifty-protector  Christian       student    blue      65     low   \n",
      "18    thrifty-protector   Catholic       student  purple      59  medium   \n",
      "19          hard-worker   Catholic  professional    blue      40  medium   \n",
      "\n",
      "    height  \n",
      "0     1.77  \n",
      "1     1.87  \n",
      "2     1.69  \n",
      "3     1.53  \n",
      "4     1.69  \n",
      "5     1.80  \n",
      "6     1.59  \n",
      "7     1.72  \n",
      "8     1.78  \n",
      "9     1.67  \n",
      "10    1.78  \n",
      "11    1.84  \n",
      "12    1.75  \n",
      "13    1.69  \n",
      "14    1.67  \n",
      "15    1.67  \n",
      "16    1.79  \n",
      "17    1.83  \n",
      "18    1.60  \n",
      "19    1.68  \n"
     ]
    }
   ],
   "source": [
    "#list first 20 rows from the given data set\n",
    "\n",
    "import pandas as pd\n",
    "\n",
    "# Load your dataset\n",
    "data = pd.read_csv(\"userprofile.csv\")\n",
    "\n",
    "# Display the first 20 rows\n",
    "print(data.head(20))"
   ]
  },
  {
   "cell_type": "code",
   "execution_count": 3,
   "id": "16fad76a",
   "metadata": {},
   "outputs": [
    {
     "name": "stdout",
     "output_type": "stream",
     "text": [
      "Total rows: 138, Total columns: 19\n"
     ]
    }
   ],
   "source": [
    "#identify the total number of rows & columns in given dataset\n",
    "\n",
    "import pandas as pd\n",
    "\n",
    "data = pd.read_csv(\"userprofile.csv\")\n",
    "\n",
    "rows, columns = data.shape\n",
    "print(f\"Total rows: {rows}, Total columns: {columns}\")"
   ]
  },
  {
   "cell_type": "code",
   "execution_count": 4,
   "id": "b8464fa4",
   "metadata": {},
   "outputs": [
    {
     "name": "stdout",
     "output_type": "stream",
     "text": [
      "userID               0\n",
      "latitude             0\n",
      "longitude            0\n",
      "smoker               3\n",
      "drink_level          0\n",
      "dress_preference     5\n",
      "ambience             6\n",
      "transport            7\n",
      "marital_status       4\n",
      "hijos               11\n",
      "birth_year           0\n",
      "interest             0\n",
      "personality          0\n",
      "religion             0\n",
      "activity             7\n",
      "color                0\n",
      "weight               0\n",
      "budget               7\n",
      "height               1\n",
      "dtype: int64\n"
     ]
    }
   ],
   "source": [
    "#find out total number of null values present in each column\n",
    "\n",
    "import pandas as pd\n",
    "\n",
    "data = pd.read_csv(\"userprofile.csv\")\n",
    "\n",
    "# Find total null values in each column\n",
    "null_values = data.isnull().sum()\n",
    "print(null_values)\n"
   ]
  },
  {
   "cell_type": "code",
   "execution_count": 5,
   "id": "35a91c10",
   "metadata": {},
   "outputs": [
    {
     "name": "stdout",
     "output_type": "stream",
     "text": [
      "     userID  latitude  longitude  smoker  drink_level  dress_preference  \\\n",
      "0       0.0       0.0        0.0     0.0          0.0               0.0   \n",
      "1       0.0       0.0        0.0     0.0          0.0               0.0   \n",
      "2       0.0       0.0        0.0     0.0          0.0               0.0   \n",
      "3       0.0       0.0        0.0     0.0          0.0               0.0   \n",
      "4       0.0       0.0        0.0     0.0          0.0               0.0   \n",
      "..      ...       ...        ...     ...          ...               ...   \n",
      "133     0.0       0.0        0.0     0.0          0.0               0.0   \n",
      "134     0.0       0.0        0.0     0.0          0.0               0.0   \n",
      "135     0.0       0.0        0.0     0.0          0.0               0.0   \n",
      "136     0.0       0.0        0.0     0.0          0.0               0.0   \n",
      "137     0.0       0.0        0.0     0.0          0.0               0.0   \n",
      "\n",
      "     ambience  transport  marital_status  hijos  birth_year  interest  \\\n",
      "0         0.0        0.0             0.0    0.0         0.0       0.0   \n",
      "1         0.0        0.0             0.0    0.0         0.0       0.0   \n",
      "2         0.0        0.0             0.0    0.0         0.0       0.0   \n",
      "3         0.0        0.0             0.0    0.0         0.0       0.0   \n",
      "4         0.0        0.0             0.0    0.0         0.0       0.0   \n",
      "..        ...        ...             ...    ...         ...       ...   \n",
      "133       0.0        0.0             0.0    0.0         0.0       0.0   \n",
      "134       0.0        0.0             0.0    0.0         0.0       0.0   \n",
      "135       0.0        0.0             0.0    0.0         0.0       0.0   \n",
      "136       0.0        0.0             0.0    0.0         0.0       0.0   \n",
      "137       0.0        0.0             0.0    0.0         0.0       0.0   \n",
      "\n",
      "     personality  religion  activity  color  weight  budget  height  \n",
      "0            0.0       0.0       0.0    0.0     0.0     0.0     0.0  \n",
      "1            0.0       0.0       0.0    0.0     0.0     0.0     0.0  \n",
      "2            0.0       0.0       0.0    0.0     0.0     0.0     0.0  \n",
      "3            0.0       0.0       0.0    0.0     0.0     0.0     0.0  \n",
      "4            0.0       0.0       0.0    0.0     0.0     0.0     0.0  \n",
      "..           ...       ...       ...    ...     ...     ...     ...  \n",
      "133          0.0       0.0       0.0    0.0     0.0     0.0     0.0  \n",
      "134          0.0       0.0       0.0    0.0     0.0     0.0     0.0  \n",
      "135          0.0       0.0       0.0    0.0     0.0     0.0     0.0  \n",
      "136          0.0       0.0       0.0    0.0     0.0     0.0     0.0  \n",
      "137          0.0       0.0       0.0    0.0     0.0     0.0     0.0  \n",
      "\n",
      "[138 rows x 19 columns]\n"
     ]
    }
   ],
   "source": [
    "# INDIA KAREGA CODING\n",
    "# FIND OUT THE percentage of null value present in each column\n",
    "\n",
    "import pandas as pd\n",
    "\n",
    "data = pd.read_csv(\"userprofile.csv\")\n",
    "rows, columns = data.shape\n",
    "\n",
    "null_percentage = (data.isnull()/data.shape[0]) * 100\n",
    "print(null_percentage)"
   ]
  },
  {
   "cell_type": "code",
   "execution_count": 6,
   "id": "543627db",
   "metadata": {},
   "outputs": [
    {
     "name": "stdout",
     "output_type": "stream",
     "text": [
      "Percentage of missing/null values: 1.9450800915331807%\n"
     ]
    }
   ],
   "source": [
    "import pandas as pd\n",
    "\n",
    "# Load your dataset\n",
    "data = pd.read_csv(\"userprofile.csv\")\n",
    "\n",
    "# Total number of missing/null values in the dataset\n",
    "total_null_values = data.isnull().sum().sum()\n",
    "\n",
    "# Total number of cells in the dataset\n",
    "total_cells = data.size\n",
    "\n",
    "# Calculate percentage of missing/null values\n",
    "null_percentage = (total_null_values / total_cells) * 100\n",
    "print(f\"Percentage of missing/null values: {null_percentage}%\")\n"
   ]
  },
  {
   "cell_type": "code",
   "execution_count": 7,
   "id": "1e5ca34d",
   "metadata": {},
   "outputs": [
    {
     "name": "stdout",
     "output_type": "stream",
     "text": [
      "userID              0.000000\n",
      "latitude            0.000000\n",
      "longitude           0.000000\n",
      "smoker              2.173913\n",
      "drink_level         0.000000\n",
      "dress_preference    3.623188\n",
      "ambience            4.347826\n",
      "transport           5.072464\n",
      "marital_status      2.898551\n",
      "hijos               7.971014\n",
      "birth_year          0.000000\n",
      "interest            0.000000\n",
      "personality         0.000000\n",
      "religion            0.000000\n",
      "activity            5.072464\n",
      "color               0.000000\n",
      "weight              0.000000\n",
      "budget              5.072464\n",
      "height              0.724638\n",
      "dtype: float64\n"
     ]
    }
   ],
   "source": [
    "import pandas as pd\n",
    "\n",
    "# Load your dataset\n",
    "data = pd.read_csv(\"userprofile.csv\")\n",
    "\n",
    "# Total number of rows in the dataset\n",
    "total_rows = len(data)\n",
    "\n",
    "# Calculate percentage of missing/null values for each column\n",
    "null_percentage_per_column = (data.isnull().sum() / total_rows) * 100\n",
    "print(null_percentage_per_column)\n"
   ]
  },
  {
   "cell_type": "code",
   "execution_count": 8,
   "id": "57c66491",
   "metadata": {},
   "outputs": [
    {
     "name": "stdout",
     "output_type": "stream",
     "text": [
      "Total number of null values in the dataset: 51\n"
     ]
    }
   ],
   "source": [
    "#calculate the total number of null value present in data set\n",
    "\n",
    "import pandas as pd\n",
    "\n",
    "# Load your dataset\n",
    "data = pd.read_csv(\"userprofile.csv\")\n",
    "\n",
    "# Calculate the total number of null values\n",
    "total_null_values = data.isnull().sum().sum()\n",
    "print(f\"Total number of null values in the dataset: {total_null_values}\")"
   ]
  },
  {
   "cell_type": "code",
   "execution_count": 9,
   "id": "b91c1ff3",
   "metadata": {},
   "outputs": [
    {
     "data": {
      "text/plain": [
       "<Axes: >"
      ]
     },
     "execution_count": 9,
     "metadata": {},
     "output_type": "execute_result"
    },
    {
     "data": {
      "image/png": "[encoded data removed]",
      "text/plain": [
       "<Figure size 640x480 with 2 Axes>"
      ]
     },
     "metadata": {},
     "output_type": "display_data"
    }
   ],
   "source": [
    "# visualize the missing value using heatmap\n",
    "\n",
    "import pandas as pd\n",
    "import seaborn as sns\n",
    "import matplotlib.pyplot as plt\n",
    "\n",
    "\n",
    "\n",
    "# Set the figure size\n",
    "\n",
    "\n",
    "# Plot heatmap of missing values\n",
    "sns.heatmap(data.isnull())\n"
   ]
  }
 ],
 "metadata": {
  "kernelspec": {
   "display_name": "Python 3",
   "language": "python",
   "name": "python3"
  },
  "language_info": {
   "codemirror_mode": {
    "name": "ipython",
    "version": 3
   },
   "file_extension": ".py",
   "mimetype": "text/x-python",
   "name": "python",
   "nbconvert_exporter": "python",
   "pygments_lexer": "ipython3",
   "version": "3.11.9"
  }
 },
 "nbformat": 4,
 "nbformat_minor": 5
}
